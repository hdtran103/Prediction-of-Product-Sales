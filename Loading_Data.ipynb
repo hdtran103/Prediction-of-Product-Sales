{
  "nbformat": 4,
  "nbformat_minor": 0,
  "metadata": {
    "colab": {
      "provenance": [],
      "mount_file_id": "1dnISKUViJm16Com2aacVQSRRBjwzmKkK",
      "authorship_tag": "ABX9TyOh5HM5yVAeFd8UM3YH3OiI",
      "include_colab_link": true
    },
    "kernelspec": {
      "name": "python3",
      "display_name": "Python 3"
    },
    "language_info": {
      "name": "python"
    }
  },
  "cells": [
    {
      "cell_type": "markdown",
      "metadata": {
        "id": "view-in-github",
        "colab_type": "text"
      },
      "source": [
        "<a href=\"https://colab.research.google.com/github/hdtran103/Prediction-of-Product-Sales/blob/main/Loading_Data.ipynb\" target=\"_parent\"><img src=\"https://colab.research.google.com/assets/colab-badge.svg\" alt=\"Open In Colab\"/></a>"
      ]
    },
    {
      "cell_type": "markdown",
      "source": [
        "syncing google.colab with drive"
      ],
      "metadata": {
        "id": "JbXG6hWnCGCl"
      }
    },
    {
      "cell_type": "markdown",
      "source": [
        "# **Loading Data**"
      ],
      "metadata": {
        "id": "dMpPQVGOvVqk"
      }
    },
    {
      "cell_type": "code",
      "execution_count": 1,
      "metadata": {
        "colab": {
          "base_uri": "https://localhost:8080/"
        },
        "id": "gQ6-7dlPf-2F",
        "outputId": "89a5ff81-977d-4d11-c862-e4108042a834"
      },
      "outputs": [
        {
          "output_type": "stream",
          "name": "stdout",
          "text": [
            "Drive already mounted at /content/drive; to attempt to forcibly remount, call drive.mount(\"/content/drive\", force_remount=True).\n"
          ]
        }
      ],
      "source": [
        "from google.colab import drive\n",
        "drive.mount('/content/drive')"
      ]
    },
    {
      "cell_type": "markdown",
      "source": [
        "import pandas to google colab for toolkit package"
      ],
      "metadata": {
        "id": "NxVvU8MwCMzS"
      }
    },
    {
      "cell_type": "code",
      "execution_count": 2,
      "metadata": {
        "id": "Q8Mv3Dlr-kDr"
      },
      "outputs": [],
      "source": [
        "# Import necessary library\n",
        "import pandas as pd"
      ]
    },
    {
      "cell_type": "markdown",
      "source": [
        "Import a csv file using the read_csv() function from pandas library. "
      ],
      "metadata": {
        "id": "956QfpskCbmV"
      }
    },
    {
      "cell_type": "code",
      "source": [
        "# Load the data into a DataFrame using Pandas\n",
        "filename = \"/content/drive/MyDrive/Data/sales_predictions.csv\"\n",
        "df = pd.read_csv(filename)"
      ],
      "metadata": {
        "id": "kzpVfmnb-9R-"
      },
      "execution_count": 3,
      "outputs": []
    },
    {
      "cell_type": "markdown",
      "source": [
        "\n",
        "- print df.head() allows it be useful for quickly testing if your object has the right type of data in it\n",
        "- print df.info() allows information about a DataFrame including index dtype and columns, non-null and memory usage"
      ],
      "metadata": {
        "id": "fln1Mw6PChoP"
      }
    },
    {
      "cell_type": "code",
      "source": [
        "# Preview the first fw rows of the data and summary of columns\n",
        "print(df.head())\n",
        "print(df.info())"
      ],
      "metadata": {
        "colab": {
          "base_uri": "https://localhost:8080/"
        },
        "id": "GsvEsF-P_X5v",
        "outputId": "80dbf924-82a4-4dde-cdd9-67b1e97e5b93"
      },
      "execution_count": 4,
      "outputs": [
        {
          "output_type": "stream",
          "name": "stdout",
          "text": [
            "  Item_Identifier  Item_Weight Item_Fat_Content  Item_Visibility  \\\n",
            "0           FDA15         9.30          Low Fat         0.016047   \n",
            "1           DRC01         5.92          Regular         0.019278   \n",
            "2           FDN15        17.50          Low Fat         0.016760   \n",
            "3           FDX07        19.20          Regular         0.000000   \n",
            "4           NCD19         8.93          Low Fat         0.000000   \n",
            "\n",
            "               Item_Type  Item_MRP Outlet_Identifier  \\\n",
            "0                  Dairy  249.8092            OUT049   \n",
            "1            Soft Drinks   48.2692            OUT018   \n",
            "2                   Meat  141.6180            OUT049   \n",
            "3  Fruits and Vegetables  182.0950            OUT010   \n",
            "4              Household   53.8614            OUT013   \n",
            "\n",
            "   Outlet_Establishment_Year Outlet_Size Outlet_Location_Type  \\\n",
            "0                       1999      Medium               Tier 1   \n",
            "1                       2009      Medium               Tier 3   \n",
            "2                       1999      Medium               Tier 1   \n",
            "3                       1998         NaN               Tier 3   \n",
            "4                       1987        High               Tier 3   \n",
            "\n",
            "         Outlet_Type  Item_Outlet_Sales  \n",
            "0  Supermarket Type1          3735.1380  \n",
            "1  Supermarket Type2           443.4228  \n",
            "2  Supermarket Type1          2097.2700  \n",
            "3      Grocery Store           732.3800  \n",
            "4  Supermarket Type1           994.7052  \n",
            "<class 'pandas.core.frame.DataFrame'>\n",
            "RangeIndex: 8523 entries, 0 to 8522\n",
            "Data columns (total 12 columns):\n",
            " #   Column                     Non-Null Count  Dtype  \n",
            "---  ------                     --------------  -----  \n",
            " 0   Item_Identifier            8523 non-null   object \n",
            " 1   Item_Weight                7060 non-null   float64\n",
            " 2   Item_Fat_Content           8523 non-null   object \n",
            " 3   Item_Visibility            8523 non-null   float64\n",
            " 4   Item_Type                  8523 non-null   object \n",
            " 5   Item_MRP                   8523 non-null   float64\n",
            " 6   Outlet_Identifier          8523 non-null   object \n",
            " 7   Outlet_Establishment_Year  8523 non-null   int64  \n",
            " 8   Outlet_Size                6113 non-null   object \n",
            " 9   Outlet_Location_Type       8523 non-null   object \n",
            " 10  Outlet_Type                8523 non-null   object \n",
            " 11  Item_Outlet_Sales          8523 non-null   float64\n",
            "dtypes: float64(4), int64(1), object(7)\n",
            "memory usage: 799.2+ KB\n",
            "None\n"
          ]
        }
      ]
    },
    {
      "cell_type": "markdown",
      "source": [
        "# **Data Cleaning**"
      ],
      "metadata": {
        "id": "Lyc6PD49PdpU"
      }
    },
    {
      "cell_type": "code",
      "source": [
        "# Data Cleaning\n",
        "# Check for duplicates\n",
        "print(f\"Number of duplicate rows: {df.duplicated().sum()}\")\n",
        "df.drop_duplicates(inplace=True)"
      ],
      "metadata": {
        "colab": {
          "base_uri": "https://localhost:8080/"
        },
        "id": "y6ERhOuF_-eF",
        "outputId": "6cf08b10-5c72-4969-f509-d7ed656b48ae"
      },
      "execution_count": 5,
      "outputs": [
        {
          "output_type": "stream",
          "name": "stdout",
          "text": [
            "Number of duplicate rows: 0\n"
          ]
        }
      ]
    },
    {
      "cell_type": "markdown",
      "source": [
        "- Find out the number of rows and colums in the DataFrame using the .shape "
      ],
      "metadata": {
        "id": "f4xVII29I30e"
      }
    },
    {
      "cell_type": "code",
      "source": [
        "# Get the dimensions of the DataFrame\n",
        "print(df.shape)"
      ],
      "metadata": {
        "colab": {
          "base_uri": "https://localhost:8080/"
        },
        "id": "Rf0-m284IvRM",
        "outputId": "0e90ebf7-3e88-4e17-af1d-bfc0906b5879"
      },
      "execution_count": 6,
      "outputs": [
        {
          "output_type": "stream",
          "name": "stdout",
          "text": [
            "(8523, 12)\n"
          ]
        }
      ]
    },
    {
      "cell_type": "markdown",
      "source": [
        "- What are the datatypes of each variable\n",
        "- using df.dtypes would identified variable."
      ],
      "metadata": {
        "id": "1D3TUJsY__r_"
      }
    },
    {
      "cell_type": "code",
      "source": [
        "# print df.dtypes to get the variable identification.\n",
        "print(df.dtypes)"
      ],
      "metadata": {
        "colab": {
          "base_uri": "https://localhost:8080/"
        },
        "id": "IAWzY5QQACTM",
        "outputId": "7fb8724e-880c-4441-e417-8dd74d1a3a44"
      },
      "execution_count": 7,
      "outputs": [
        {
          "output_type": "stream",
          "name": "stdout",
          "text": [
            "Item_Identifier               object\n",
            "Item_Weight                  float64\n",
            "Item_Fat_Content              object\n",
            "Item_Visibility              float64\n",
            "Item_Type                     object\n",
            "Item_MRP                     float64\n",
            "Outlet_Identifier             object\n",
            "Outlet_Establishment_Year      int64\n",
            "Outlet_Size                   object\n",
            "Outlet_Location_Type          object\n",
            "Outlet_Type                   object\n",
            "Item_Outlet_Sales            float64\n",
            "dtype: object\n"
          ]
        }
      ]
    },
    {
      "cell_type": "markdown",
      "source": [
        "df.duplicated() is a pandas method that returns a boolean array indicating which rows of a df are duplicated.\n",
        "- df.drop_duplicates() is another pandas method that removes duplicate rows from a df."
      ],
      "metadata": {
        "id": "tRw7pZgkErN6"
      }
    },
    {
      "cell_type": "code",
      "source": [
        "# Finding duplicates and drop duplicates if any\n",
        "print(df.duplicated().sum())\n",
        "df.drop_duplicates(inplace=True)"
      ],
      "metadata": {
        "colab": {
          "base_uri": "https://localhost:8080/"
        },
        "id": "2wgEvs8eAEYF",
        "outputId": "49246c79-49da-43c2-87cf-ea738c8b5e06"
      },
      "execution_count": 8,
      "outputs": [
        {
          "output_type": "stream",
          "name": "stdout",
          "text": [
            "0\n"
          ]
        }
      ]
    },
    {
      "cell_type": "markdown",
      "source": [
        "- using the isnull() method to check for missing values in the DataFrame."
      ],
      "metadata": {
        "id": "a9fJlrruFGiU"
      }
    },
    {
      "cell_type": "code",
      "source": [
        "# Identifying missing values\n",
        "print(df.isnull().sum())"
      ],
      "metadata": {
        "colab": {
          "base_uri": "https://localhost:8080/"
        },
        "id": "jvhPZfX9AT5V",
        "outputId": "9a94b03a-fa53-4e05-9fae-c8290157bacc"
      },
      "execution_count": 9,
      "outputs": [
        {
          "output_type": "stream",
          "name": "stdout",
          "text": [
            "Item_Identifier                 0\n",
            "Item_Weight                  1463\n",
            "Item_Fat_Content                0\n",
            "Item_Visibility                 0\n",
            "Item_Type                       0\n",
            "Item_MRP                        0\n",
            "Outlet_Identifier               0\n",
            "Outlet_Establishment_Year       0\n",
            "Outlet_Size                  2410\n",
            "Outlet_Location_Type            0\n",
            "Outlet_Type                     0\n",
            "Item_Outlet_Sales               0\n",
            "dtype: int64\n"
          ]
        }
      ]
    },
    {
      "cell_type": "markdown",
      "source": [],
      "metadata": {
        "id": "rwQypD7TLR2w"
      }
    },
    {
      "cell_type": "code",
      "source": [
        "# Fill missing values with median\n",
        "df[\"Outlet_Size\"].fillna(\"Unknown\", inplace=True)"
      ],
      "metadata": {
        "id": "rpP0OXdsAaPs"
      },
      "execution_count": 10,
      "outputs": []
    },
    {
      "cell_type": "markdown",
      "source": [
        "- Printing to confirm there are no missing values after addressing them"
      ],
      "metadata": {
        "id": "In57wyM5MXDV"
      }
    },
    {
      "cell_type": "code",
      "source": [
        "# print to confirm for no missing values\n",
        "print(df.isnull().sum())"
      ],
      "metadata": {
        "colab": {
          "base_uri": "https://localhost:8080/"
        },
        "id": "3CqYGd9NAxf7",
        "outputId": "5505e670-ba94-4705-98c0-58ff1e1697e9"
      },
      "execution_count": 11,
      "outputs": [
        {
          "output_type": "stream",
          "name": "stdout",
          "text": [
            "Item_Identifier                 0\n",
            "Item_Weight                  1463\n",
            "Item_Fat_Content                0\n",
            "Item_Visibility                 0\n",
            "Item_Type                       0\n",
            "Item_MRP                        0\n",
            "Outlet_Identifier               0\n",
            "Outlet_Establishment_Year       0\n",
            "Outlet_Size                     0\n",
            "Outlet_Location_Type            0\n",
            "Outlet_Type                     0\n",
            "Item_Outlet_Sales               0\n",
            "dtype: int64\n"
          ]
        }
      ]
    },
    {
      "cell_type": "code",
      "source": [
        "print(df[\"Item_Fat_Content\"].value_counts())"
      ],
      "metadata": {
        "colab": {
          "base_uri": "https://localhost:8080/"
        },
        "id": "R5Pm3BFhBL7l",
        "outputId": "7c2fdb69-aa8c-4dc4-fa95-8cf0b33c5cac"
      },
      "execution_count": 12,
      "outputs": [
        {
          "output_type": "stream",
          "name": "stdout",
          "text": [
            "Low Fat    5089\n",
            "Regular    2889\n",
            "LF          316\n",
            "reg         117\n",
            "low fat     112\n",
            "Name: Item_Fat_Content, dtype: int64\n"
          ]
        }
      ]
    },
    {
      "cell_type": "markdown",
      "source": [
        "The \"Item_Fat_Content\" column contains inconsistent categories, such as \" Low Fat\",\"LF\", \"low fat\", \"Regular\", and \"reg\". we can fix this by replacing \"LF\" and \"low fat\" with \"Low Fat\", and replacing \"reg\" with \"Regular\"\n",
        "- To fix this we have to use the 'replace()' method. \n",
        "- then print the updated value counts for the \"Item_Fat_Content\" column using the '.value_counts()' method.\n"
      ],
      "metadata": {
        "id": "RENr_aCfNR7l"
      }
    },
    {
      "cell_type": "code",
      "source": [
        "# There are inconsistencies in \"Item_Fat_Content\" column\n",
        "df[\"Item_Fat_Content\"].replace({\"LF\": \"Low Fat\", \"low fat\": \"Low Fat\", \"reg\": \"Regular\"}, inplace=True)\n",
        "print(df[\"Item_Fat_Content\"].value_counts())"
      ],
      "metadata": {
        "colab": {
          "base_uri": "https://localhost:8080/"
        },
        "id": "KbjxGUiYBb0G",
        "outputId": "380dfb74-5c42-41bd-c470-0ebef0f7cd6c"
      },
      "execution_count": 13,
      "outputs": [
        {
          "output_type": "stream",
          "name": "stdout",
          "text": [
            "Low Fat    5517\n",
            "Regular    3006\n",
            "Name: Item_Fat_Content, dtype: int64\n"
          ]
        }
      ]
    },
    {
      "cell_type": "markdown",
      "source": [
        "- To obtain the summary statistics of each numerical column (min,max,mean) in the DataFrame, we can use the '.describe()' method"
      ],
      "metadata": {
        "id": "0oD6wkwlOzYW"
      }
    },
    {
      "cell_type": "code",
      "source": [
        "# Print summary statistics for numerical columns\n",
        "print(df.describe())"
      ],
      "metadata": {
        "colab": {
          "base_uri": "https://localhost:8080/"
        },
        "id": "LkXYPtoYCXXx",
        "outputId": "f700df31-680c-4adc-f718-fc8779b3b4cb"
      },
      "execution_count": 14,
      "outputs": [
        {
          "output_type": "stream",
          "name": "stdout",
          "text": [
            "       Item_Weight  Item_Visibility     Item_MRP  Outlet_Establishment_Year  \\\n",
            "count  7060.000000      8523.000000  8523.000000                8523.000000   \n",
            "mean     12.857645         0.066132   140.992782                1997.831867   \n",
            "std       4.643456         0.051598    62.275067                   8.371760   \n",
            "min       4.555000         0.000000    31.290000                1985.000000   \n",
            "25%       8.773750         0.026989    93.826500                1987.000000   \n",
            "50%      12.600000         0.053931   143.012800                1999.000000   \n",
            "75%      16.850000         0.094585   185.643700                2004.000000   \n",
            "max      21.350000         0.328391   266.888400                2009.000000   \n",
            "\n",
            "       Item_Outlet_Sales  \n",
            "count        8523.000000  \n",
            "mean         2181.288914  \n",
            "std          1706.499616  \n",
            "min            33.290000  \n",
            "25%           834.247400  \n",
            "50%          1794.331000  \n",
            "75%          3101.296400  \n",
            "max         13086.964800  \n"
          ]
        }
      ]
    }
  ]
}