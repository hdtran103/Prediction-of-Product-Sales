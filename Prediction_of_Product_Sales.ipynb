{
  "nbformat": 4,
  "nbformat_minor": 0,
  "metadata": {
    "colab": {
      "provenance": [],
      "authorship_tag": "ABX9TyN/moveqxVHJ+HrJ8o7R2fC",
      "include_colab_link": true
    },
    "kernelspec": {
      "name": "python3",
      "display_name": "Python 3"
    },
    "language_info": {
      "name": "python"
    }
  },
  "cells": [
    {
      "cell_type": "markdown",
      "metadata": {
        "id": "view-in-github",
        "colab_type": "text"
      },
      "source": [
        "<a href=\"https://colab.research.google.com/github/hdtran103/Prediction-of-Product-Sales/blob/main/Prediction_of_Product_Sales.ipynb\" target=\"_parent\"><img src=\"https://colab.research.google.com/assets/colab-badge.svg\" alt=\"Open In Colab\"/></a>"
      ]
    },
    {
      "cell_type": "markdown",
      "source": [
        "# **Prediction of Product Sales**"
      ],
      "metadata": {
        "id": "fIhOJ_Oyp94a"
      }
    },
    {
      "cell_type": "markdown",
      "source": [
        "Author: Peter Tran"
      ],
      "metadata": {
        "id": "sesZJL9GoUiD"
      }
    },
    {
      "cell_type": "markdown",
      "source": [
        "# **Project Overview**"
      ],
      "metadata": {
        "id": "TsQBwiSloYgW"
      }
    },
    {
      "cell_type": "markdown",
      "source": [
        "# **Load and Inspect Data**"
      ],
      "metadata": {
        "id": "Tpcndt8dowHb"
      }
    },
    {
      "cell_type": "code",
      "source": [],
      "metadata": {
        "id": "rlRosEP6orKU"
      },
      "execution_count": null,
      "outputs": []
    },
    {
      "cell_type": "code",
      "source": [],
      "metadata": {
        "id": "uvTTR4-eor9O"
      },
      "execution_count": null,
      "outputs": []
    },
    {
      "cell_type": "code",
      "source": [],
      "metadata": {
        "id": "WgJ9uivdopsy"
      },
      "execution_count": null,
      "outputs": []
    },
    {
      "cell_type": "markdown",
      "source": [
        "# **Clean Data**"
      ],
      "metadata": {
        "id": "VflTfRaRo4QG"
      }
    },
    {
      "cell_type": "code",
      "source": [],
      "metadata": {
        "id": "nW4Ly-D-pDmn"
      },
      "execution_count": null,
      "outputs": []
    },
    {
      "cell_type": "code",
      "source": [],
      "metadata": {
        "id": "_eCLTojPpEIN"
      },
      "execution_count": null,
      "outputs": []
    },
    {
      "cell_type": "code",
      "source": [],
      "metadata": {
        "id": "A4vUWaDIpEiT"
      },
      "execution_count": null,
      "outputs": []
    },
    {
      "cell_type": "markdown",
      "source": [
        "# **Exploratory Data Analysis**"
      ],
      "metadata": {
        "id": "HCZtql35pG1k"
      }
    },
    {
      "cell_type": "code",
      "source": [],
      "metadata": {
        "id": "2_6IuHY7pRjn"
      },
      "execution_count": null,
      "outputs": []
    },
    {
      "cell_type": "code",
      "source": [],
      "metadata": {
        "id": "xz5Ygr1dpR_I"
      },
      "execution_count": null,
      "outputs": []
    },
    {
      "cell_type": "code",
      "source": [],
      "metadata": {
        "id": "0JpyEwx9pShE"
      },
      "execution_count": null,
      "outputs": []
    },
    {
      "cell_type": "markdown",
      "source": [
        "# **Explanatory Data Analysis**"
      ],
      "metadata": {
        "id": "ZiO1XyCEpTCM"
      }
    },
    {
      "cell_type": "code",
      "source": [],
      "metadata": {
        "id": "JrOVoKEupbEd"
      },
      "execution_count": null,
      "outputs": []
    },
    {
      "cell_type": "code",
      "source": [],
      "metadata": {
        "id": "uYYrWycJpbeu"
      },
      "execution_count": null,
      "outputs": []
    },
    {
      "cell_type": "code",
      "source": [],
      "metadata": {
        "id": "H7mGpa2fpb0O"
      },
      "execution_count": null,
      "outputs": []
    }
  ]
}